{
 "cells": [
  {
   "cell_type": "markdown",
   "metadata": {},
   "source": [
    "# ARC-AGI-2 Evaluation\n",
    "This notebook loads a trained model and evaluates it on the public evaluation tasks."
   ]
  },
  {
   "cell_type": "code",
   "execution_count": null,
   "metadata": {},
   "outputs": [],
   "source": [
    "import sys, os, torch\n",
    "sys.path.append('..')\n",
    "from models import ARCModel\n",
    "from task_embeddings import TaskEmbeddingModule\n",
    "from evaluation import evaluate_split, predict_task\n",
    "\n",
    "ckpt = torch.load('../arc_model.pt', map_location='cpu')\n",
    "model = ARCModel()\n",
    "model.load_state_dict(ckpt['model'])\n",
    "task_ids = list(ckpt['task_ids'].keys())\n",
    "embeddings = TaskEmbeddingModule(task_ids)\n",
    "embeddings.load_state_dict(ckpt['embeddings'])\n",
    "model.eval()\n",
    "embeddings.eval()"
   ]
  },
  {
   "cell_type": "code",
   "execution_count": null,
   "metadata": {},
   "outputs": [],
   "source": [
    "metrics = evaluate_split(model, embeddings, root='..')\n",
    "print(metrics)"
   ]
  },
  {
   "cell_type": "code",
   "execution_count": null,
   "metadata": {},
   "outputs": [],
   "source": [
    "from pathlib import Path\n",
    "eval_dir = Path('..') / 'data' / 'evaluation'\n",
    "task_path = sorted(eval_dir.glob('*.json'))[0]\n",
    "preds = predict_task(model, embeddings, task_path)\n",
    "print('Predictions for', task_path.stem)\n",
    "for grid in preds:\n",
    "    for row in grid:\n",
    "        print(row)\n",
    "    print()"
   ]
  }
 ],
 "metadata": {
  "kernelspec": {
   "display_name": "Python 3",
   "language": "python",
   "name": "python3"
  },
  "language_info": {
   "name": "python",
   "pygments_lexer": "ipython3",
   "codemirror_mode": {
    "name": "ipython",
    "version": 3
   },
   "nbconvert_exporter": "python",
   "file_extension": ".py",
   "mimetype": "text/x-python",
   "version": "3.10"
  }
 },
 "nbformat": 4,
 "nbformat_minor": 2
}
